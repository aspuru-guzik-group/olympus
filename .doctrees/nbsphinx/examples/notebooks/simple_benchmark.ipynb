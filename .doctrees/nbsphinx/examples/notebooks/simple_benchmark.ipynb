{
 "cells": [
  {
   "cell_type": "code",
   "execution_count": 5,
   "metadata": {},
   "outputs": [],
   "source": [
    "# import olympus\n",
    "from olympus import Olympus\n",
    "from olympus import Campaign"
   ]
  },
  {
   "cell_type": "code",
   "execution_count": 6,
   "metadata": {},
   "outputs": [],
   "source": [
    "# create olympus\n",
    "olymp = Olympus()"
   ]
  },
  {
   "cell_type": "markdown",
   "metadata": {},
   "source": [
    "### Run a simple benchmark"
   ]
  },
  {
   "cell_type": "code",
   "execution_count": 7,
   "metadata": {},
   "outputs": [
    {
     "name": "stdout",
     "output_type": "stream",
     "text": [
      "5 136 4\n",
      "WARNING:tensorflow:From /home/flo/anaconda3/envs/olympus/lib/python3.7/site-packages/tensorflow_probability/python/layers/util.py:104: Layer.add_variable (from tensorflow.python.keras.engine.base_layer) is deprecated and will be removed in a future version.\n",
      "Instructions for updating:\n",
      "Please use `layer.add_weight` method instead.\n",
      "WARNING:tensorflow:From /home/flo/anaconda3/envs/olympus/lib/python3.7/site-packages/tensorflow_core/python/ops/resource_variable_ops.py:1630: calling BaseResourceVariable.__init__ (from tensorflow.python.ops.resource_variable_ops) with constraint is deprecated and will be removed in a future version.\n",
      "Instructions for updating:\n",
      "If using Keras pass *_constraint arguments to layers.\n",
      "INFO:tensorflow:Restoring parameters from /home/flo/Olympus/flo/src/olympus/emulators/emulator_alkox_bnn/Fold_0/model.ckpt\n",
      "INFO:tensorflow:Restoring parameters from /home/flo/Olympus/flo/src/olympus/emulators/emulator_alkox_bnn/Fold_1/model.ckpt\n",
      "INFO:tensorflow:Restoring parameters from /home/flo/Olympus/flo/src/olympus/emulators/emulator_alkox_bnn/Fold_2/model.ckpt\n",
      "INFO:tensorflow:Restoring parameters from /home/flo/Olympus/flo/src/olympus/emulators/emulator_alkox_bnn/Fold_3/model.ckpt\n",
      "INFO:tensorflow:Restoring parameters from /home/flo/Olympus/flo/src/olympus/emulators/emulator_alkox_bnn/Fold_4/model.ckpt\n"
     ]
    }
   ],
   "source": [
    "# run olympus for specific experimentation scenario\n",
    "olymp.run(dataset='alkox', planner='hyperopt', campaign=Campaign())"
   ]
  },
  {
   "cell_type": "code",
   "execution_count": 10,
   "metadata": {},
   "outputs": [
    {
     "name": "stdout",
     "output_type": "stream",
     "text": [
      "5 136 4\n",
      "INFO:tensorflow:Restoring parameters from /home/flo/Olympus/flo/src/olympus/emulators/emulator_alkox_bnn/Fold_0/model.ckpt\n",
      "INFO:tensorflow:Restoring parameters from /home/flo/Olympus/flo/src/olympus/emulators/emulator_alkox_bnn/Fold_1/model.ckpt\n",
      "INFO:tensorflow:Restoring parameters from /home/flo/Olympus/flo/src/olympus/emulators/emulator_alkox_bnn/Fold_2/model.ckpt\n",
      "INFO:tensorflow:Restoring parameters from /home/flo/Olympus/flo/src/olympus/emulators/emulator_alkox_bnn/Fold_3/model.ckpt\n",
      "INFO:tensorflow:Restoring parameters from /home/flo/Olympus/flo/src/olympus/emulators/emulator_alkox_bnn/Fold_4/model.ckpt\n"
     ]
    }
   ],
   "source": [
    "# run olympus with another planner\n",
    "olymp.run(dataset='alkox', planner='gpyopt', campaign=Campaign())"
   ]
  },
  {
   "cell_type": "markdown",
   "metadata": {},
   "source": [
    "### Plot results"
   ]
  },
  {
   "cell_type": "code",
   "execution_count": 11,
   "metadata": {},
   "outputs": [],
   "source": [
    "from olympus import Plotter"
   ]
  },
  {
   "cell_type": "code",
   "execution_count": 12,
   "metadata": {},
   "outputs": [
    {
     "data": {
      "image/png": "[encoded data removed]",
      "text/plain": [
       "<Figure size 432x288 with 1 Axes>"
      ]
     },
     "metadata": {
      "needs_background": "light"
     },
     "output_type": "display_data"
    }
   ],
   "source": [
    "plotter = Plotter()\n",
    "plotter.plot_from_db(olymp.evaluator.database)"
   ]
  },
  {
   "cell_type": "markdown",
   "metadata": {},
   "source": [
    "### Computer additional performance metrics (PENDING)"
   ]
  },
  {
   "cell_type": "code",
   "execution_count": 14,
   "metadata": {},
   "outputs": [
    {
     "data": {
      "text/plain": [
       "Ellipsis"
      ]
     },
     "execution_count": 14,
     "metadata": {},
     "output_type": "execute_result"
    }
   ],
   "source": [
    "..."
   ]
  },
  {
   "cell_type": "code",
   "execution_count": null,
   "metadata": {},
   "outputs": [],
   "source": []
  }
 ],
 "metadata": {
  "kernelspec": {
   "display_name": "Python 3",
   "language": "python",
   "name": "python3"
  },
  "language_info": {
   "codemirror_mode": {
    "name": "ipython",
    "version": 3
   },
   "file_extension": ".py",
   "mimetype": "text/x-python",
   "name": "python",
   "nbconvert_exporter": "python",
   "pygments_lexer": "ipython3",
   "version": "3.7.5"
  }
 },
 "nbformat": 4,
 "nbformat_minor": 2
}
