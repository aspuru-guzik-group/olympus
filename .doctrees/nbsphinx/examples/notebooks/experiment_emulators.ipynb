{
 "cells": [
  {
   "cell_type": "markdown",
   "metadata": {},
   "source": [
    "# Experiment emulators"
   ]
  },
  {
   "cell_type": "code",
   "execution_count": 1,
   "metadata": {},
   "outputs": [],
   "source": [
    "import numpy as np \n",
    "\n",
    "from olympus import Emulator\n",
    "from olympus import list_trained_emulators"
   ]
  },
  {
   "cell_type": "code",
   "execution_count": 2,
   "metadata": {},
   "outputs": [
    {
     "name": "stdout",
     "output_type": "stream",
     "text": [
      "['photobleaching_bnn', 'n9_bnn', 'n9_nn', 'color_mixing', 'alkox_bnn', 'alkox_nn']\n"
     ]
    }
   ],
   "source": [
    "# checking trained emulators\n",
    "print(list_trained_emulators())"
   ]
  },
  {
   "cell_type": "markdown",
   "metadata": {},
   "source": [
    "We choose to focus on `alkox_bnn`"
   ]
  },
  {
   "cell_type": "code",
   "execution_count": 3,
   "metadata": {},
   "outputs": [
    {
     "name": "stdout",
     "output_type": "stream",
     "text": [
      "5 136 4\n",
      "WARNING:tensorflow:From /home/flo/anaconda3/envs/olympus/lib/python3.7/site-packages/tensorflow_probability/python/layers/util.py:104: Layer.add_variable (from tensorflow.python.keras.engine.base_layer) is deprecated and will be removed in a future version.\n",
      "Instructions for updating:\n",
      "Please use `layer.add_weight` method instead.\n",
      "WARNING:tensorflow:From /home/flo/anaconda3/envs/olympus/lib/python3.7/site-packages/tensorflow_core/python/ops/resource_variable_ops.py:1630: calling BaseResourceVariable.__init__ (from tensorflow.python.ops.resource_variable_ops) with constraint is deprecated and will be removed in a future version.\n",
      "Instructions for updating:\n",
      "If using Keras pass *_constraint arguments to layers.\n",
      "INFO:tensorflow:Restoring parameters from /home/flo/Olympus/flo/src/olympus/emulators/emulator_alkox_bnn/Fold_0/model.ckpt\n",
      "INFO:tensorflow:Restoring parameters from /home/flo/Olympus/flo/src/olympus/emulators/emulator_alkox_bnn/Fold_1/model.ckpt\n",
      "INFO:tensorflow:Restoring parameters from /home/flo/Olympus/flo/src/olympus/emulators/emulator_alkox_bnn/Fold_2/model.ckpt\n",
      "INFO:tensorflow:Restoring parameters from /home/flo/Olympus/flo/src/olympus/emulators/emulator_alkox_bnn/Fold_3/model.ckpt\n",
      "INFO:tensorflow:Restoring parameters from /home/flo/Olympus/flo/src/olympus/emulators/emulator_alkox_bnn/Fold_4/model.ckpt\n"
     ]
    }
   ],
   "source": [
    "# initialize emulator\n",
    "emulator = Emulator(model = 'bnn', dataset = 'alkox')"
   ]
  },
  {
   "cell_type": "code",
   "execution_count": 4,
   "metadata": {},
   "outputs": [
    {
     "name": "stdout",
     "output_type": "stream",
     "text": [
      "<Emulator (Dataset(name=alkox), model=<Model(name=bnn)>)>\n"
     ]
    }
   ],
   "source": [
    "# print emulator information\n",
    "print(emulator)"
   ]
  },
  {
   "cell_type": "code",
   "execution_count": 5,
   "metadata": {},
   "outputs": [
    {
     "name": "stdout",
     "output_type": "stream",
     "text": [
      "Continuous (name = 'residence_time', low = 0.0, high = 1.0)\n",
      "Continuous (name = 'ratio', low = 0.0, high = 1.0)\n",
      "Continuous (name = 'concentration', low = 0.0, high = 1.0)\n",
      "Continuous (name = 'temperature', low = 0.0, high = 1.0)\n"
     ]
    }
   ],
   "source": [
    "# check on parameter space \n",
    "print(emulator.get_param_space()) # <-- ATTENTION: The param ranges look incorrect!"
   ]
  },
  {
   "cell_type": "code",
   "execution_count": 6,
   "metadata": {},
   "outputs": [
    {
     "name": "stdout",
     "output_type": "stream",
     "text": [
      "minimize\n"
     ]
    }
   ],
   "source": [
    "# check on goal\n",
    "print(emulator.get_goal())"
   ]
  },
  {
   "cell_type": "code",
   "execution_count": 7,
   "metadata": {},
   "outputs": [
    {
     "name": "stdout",
     "output_type": "stream",
     "text": [
      "43.162064640737256\n"
     ]
    }
   ],
   "source": [
    "# run single prediction\n",
    "params = np.zeros(4)\n",
    "values = emulator.run(params)\n",
    "print(values)"
   ]
  },
  {
   "cell_type": "code",
   "execution_count": 8,
   "metadata": {},
   "outputs": [
    {
     "name": "stdout",
     "output_type": "stream",
     "text": [
      "[39.23987862 39.73520907 39.32980841 38.94721425 39.45238658]\n"
     ]
    }
   ],
   "source": [
    "# run multiple predictions\n",
    "params = np.zeros(4)\n",
    "values = emulator.run(params, num_samples = 5)\n",
    "print(values)"
   ]
  },
  {
   "cell_type": "code",
   "execution_count": null,
   "metadata": {},
   "outputs": [],
   "source": []
  }
 ],
 "metadata": {
  "kernelspec": {
   "display_name": "Python 3",
   "language": "python",
   "name": "python3"
  },
  "language_info": {
   "codemirror_mode": {
    "name": "ipython",
    "version": 3
   },
   "file_extension": ".py",
   "mimetype": "text/x-python",
   "name": "python",
   "nbconvert_exporter": "python",
   "pygments_lexer": "ipython3",
   "version": "3.7.5"
  }
 },
 "nbformat": 4,
 "nbformat_minor": 2
}
